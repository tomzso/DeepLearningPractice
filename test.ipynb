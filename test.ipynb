{
  "nbformat": 4,
  "nbformat_minor": 0,
  "metadata": {
    "colab": {
      "provenance": [],
      "authorship_tag": "ABX9TyNz9c0Iixm+M6o2OottkLoG",
      "include_colab_link": true
    },
    "kernelspec": {
      "name": "python3",
      "display_name": "Python 3"
    },
    "language_info": {
      "name": "python"
    }
  },
  "cells": [
    {
      "cell_type": "markdown",
      "metadata": {
        "id": "view-in-github",
        "colab_type": "text"
      },
      "source": [
        "<a href=\"https://colab.research.google.com/github/tomzso/DeepLearningPractice/blob/main/test.ipynb\" target=\"_parent\"><img src=\"https://colab.research.google.com/assets/colab-badge.svg\" alt=\"Open In Colab\"/></a>"
      ]
    },
    {
      "cell_type": "code",
      "execution_count": null,
      "metadata": {
        "id": "lVbvbAuVavsh"
      },
      "outputs": [],
      "source": [
        "!wget -O audio_bird_name.csv \"https://bmeedu-my.sharepoint.com/:x:/g/personal/lengto_01_edu_bme_hu/EadxmoQf5_5JvHZVJrNbQzoB-HKx8JhHU0-mGeTEzl7Y9A?e=Bp9W6v\""
      ]
    }
  ]
}